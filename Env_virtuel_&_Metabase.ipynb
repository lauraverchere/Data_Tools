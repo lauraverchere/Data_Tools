{
 "cells": [
  {
   "cell_type": "markdown",
   "metadata": {},
   "source": [
    "## Hands-on data science tools\n",
    "#### Create and actiivate a virtual environment\n",
    "Il faut créer l'environnement virtuel au niveau du répertoire utilisateur qui est accessible par la commande cd /Users/laura"
   ]
  },
  {
   "cell_type": "code",
   "execution_count": null,
   "metadata": {},
   "outputs": [],
   "source": [
    "python3 -m venv nom_env         # Création de l'environnement virtuel \n",
    "source nom_env/bin/activate     # Activation de l'envionnement virtuel"
   ]
  },
  {
   "cell_type": "markdown",
   "metadata": {},
   "source": [
    "#### Configure dbt profile\n",
    "Il faut se rendre à l'endroit où on souhaite que le projet/fichier soit crée en veillant à toujours être dans l'environnement virtuel."
   ]
  },
  {
   "cell_type": "code",
   "execution_count": null,
   "metadata": {},
   "outputs": [],
   "source": [
    "dbt init"
   ]
  },
  {
   "cell_type": "markdown",
   "metadata": {},
   "source": [
    "You'll need to fill the following informations :\n",
    "- Name for the project\n",
    "- Host (use your IP address or the address given)  \n",
    "- database (database name)  \n",
    "- password  \n",
    "- port (5432)"
   ]
  },
  {
   "cell_type": "markdown",
   "metadata": {},
   "source": [
    "#### Verify the connection with the database\n",
    "Il faut se rendre dans le projet renseigné précédemment.\n"
   ]
  },
  {
   "cell_type": "code",
   "execution_count": null,
   "metadata": {},
   "outputs": [],
   "source": [
    "dbt debug"
   ]
  },
  {
   "cell_type": "markdown",
   "metadata": {},
   "source": [
    "#### Database connection with Metabase\n",
    "Pour rappel, pour se rendre sur Metabase, il faut aller sur <span style=\"color:red;\">localhost:3000</span>\n",
    "\n",
    "Pour connecter la base de donnée à Métabase, il faut suivre les étapes suivantes :\n",
    "- Paramètres --> Réglages administrateur  \n",
    "- Base de données --> Ajouter une base de données\n",
    "- Remplir les champs avec les mêmes infos renseignées dans la commande dbt init\n",
    "- Synchroniser le schéma de base de données"
   ]
  }
 ],
 "metadata": {
  "language_info": {
   "name": "python"
  }
 },
 "nbformat": 4,
 "nbformat_minor": 2
}
